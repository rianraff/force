{
 "cells": [
  {
   "cell_type": "code",
   "execution_count": 41,
   "metadata": {},
   "outputs": [],
   "source": [
    "import pandas as pd\n",
    "import random\n",
    "import simplekml\n",
    "from fastkml import kml\n",
    "from lxml import html\n",
    "import pandas as pd\n",
    "from zipfile import ZipFile\n",
    "from pyproj import Transformer\n",
    "from shapely.ops import transform\n",
    "from shapely.geometry import Point\n",
    "from pyproj import Geod\n",
    "from shapely import LineString\n",
    "from shapely.ops import substring\n",
    "from shapely import MultiLineString\n",
    "import warnings\n",
    "import pandas as pd\n",
    "import os\n",
    "import re\n",
    "from openpyxl import load_workbook\n",
    "from openpyxl.styles import PatternFill\n",
    "\n",
    "from kmz_module import get_homepass_folder, get_placemark, to_df\n",
    "\n",
    "def getAllHP(file_path):\n",
    "    placemark_dict = get_placemark(file_path)\n",
    "    hp_folder_name = get_homepass_folder(placemark_dict)\n",
    "    all_homepass_df = pd.DataFrame()  # DataFrame kosong untuk menyimpan semua data\n",
    "\n",
    "    for name in hp_folder_name:\n",
    "        homepass_df = to_df(placemark_dict[name], parse_simple=True)\n",
    "        all_homepass_df = pd.concat([all_homepass_df, homepass_df], ignore_index=True)  # Gabungkan DataFrame ke DataFrame besar\n",
    "\n",
    "    return all_homepass_df\n",
    "\n",
    "def getAllFAT(file_path):\n",
    "    placemark_dict = get_placemark(file_path)\n",
    "    fat_df = to_df(placemark_dict[\"FAT\"], parse_simple=False)    \n",
    "\n",
    "    return fat_df"
   ]
  },
  {
   "cell_type": "code",
   "execution_count": 42,
   "metadata": {},
   "outputs": [
    {
     "name": "stdout",
     "output_type": "stream",
     "text": [
      "                    Name              Coordinates\n",
      "0  SGM1-JSA01-H12-D03-07  [119.445176, -5.219916]\n",
      "1  SGM1-JSA01-H12-D03-06  [119.444914, -5.219481]\n",
      "2  SGM1-JSA01-H12-D03-05  [119.443971, -5.219344]\n",
      "3  SGM1-JSA01-H12-D03-08  [119.446108, -5.220035]\n",
      "4  SGM1-JSA01-H12-D03-04  [119.442964, -5.219066]\n",
      "5  SGM1-JSA01-H12-D03-09  [119.445209, -5.221219]\n"
     ]
    }
   ],
   "source": [
    "fat_long_lat = getAllFAT('Input\\ABD - XLSGM1218.kmz')\n",
    "print(fat_long_lat)"
   ]
  },
  {
   "cell_type": "code",
   "execution_count": 46,
   "metadata": {},
   "outputs": [
    {
     "ename": "FileNotFoundError",
     "evalue": "[Errno 2] No such file or directory: 'Input\\\\ABD - XLSGM1218.kmz'",
     "output_type": "error",
     "traceback": [
      "\u001b[1;31m---------------------------------------------------------------------------\u001b[0m",
      "\u001b[1;31mFileNotFoundError\u001b[0m                         Traceback (most recent call last)",
      "Cell \u001b[1;32mIn[46], line 2\u001b[0m\n\u001b[0;32m      1\u001b[0m coordinate_col \u001b[39m=\u001b[39m [\u001b[39m'\u001b[39m\u001b[39mBUILDING_LONGITUDE\u001b[39m\u001b[39m'\u001b[39m, \u001b[39m'\u001b[39m\u001b[39mBUILDING_LATITUDE\u001b[39m\u001b[39m'\u001b[39m]\n\u001b[1;32m----> 2\u001b[0m homepass_long_lat \u001b[39m=\u001b[39m getAllHP(\u001b[39m'\u001b[39;49m\u001b[39mInput\u001b[39;49m\u001b[39m\\\u001b[39;49m\u001b[39mABD - XLSGM1218.kmz\u001b[39;49m\u001b[39m'\u001b[39;49m)\n\u001b[0;32m      3\u001b[0m red_fill \u001b[39m=\u001b[39m PatternFill(start_color\u001b[39m=\u001b[39m\u001b[39m'\u001b[39m\u001b[39mFF0000\u001b[39m\u001b[39m'\u001b[39m, end_color\u001b[39m=\u001b[39m\u001b[39m'\u001b[39m\u001b[39mFF0000\u001b[39m\u001b[39m'\u001b[39m, fill_type\u001b[39m=\u001b[39m\u001b[39m'\u001b[39m\u001b[39msolid\u001b[39m\u001b[39m'\u001b[39m)\n\u001b[0;32m      4\u001b[0m green_fill \u001b[39m=\u001b[39m PatternFill(start_color\u001b[39m=\u001b[39m\u001b[39m'\u001b[39m\u001b[39m00FF00\u001b[39m\u001b[39m'\u001b[39m, end_color\u001b[39m=\u001b[39m\u001b[39m'\u001b[39m\u001b[39m00FF00\u001b[39m\u001b[39m'\u001b[39m, fill_type\u001b[39m=\u001b[39m\u001b[39m'\u001b[39m\u001b[39msolid\u001b[39m\u001b[39m'\u001b[39m)\n",
      "Cell \u001b[1;32mIn[41], line 25\u001b[0m, in \u001b[0;36mgetAllHP\u001b[1;34m(file_path)\u001b[0m\n\u001b[0;32m     24\u001b[0m \u001b[39mdef\u001b[39;00m \u001b[39mgetAllHP\u001b[39m(file_path):\n\u001b[1;32m---> 25\u001b[0m     placemark_dict \u001b[39m=\u001b[39m get_placemark(file_path)\n\u001b[0;32m     26\u001b[0m     hp_folder_name \u001b[39m=\u001b[39m get_homepass_folder(placemark_dict)\n\u001b[0;32m     27\u001b[0m     all_homepass_df \u001b[39m=\u001b[39m pd\u001b[39m.\u001b[39mDataFrame()  \u001b[39m# DataFrame kosong untuk menyimpan semua data\u001b[39;00m\n",
      "File \u001b[1;32md:\\Documents\\MBKM\\force\\kmz_module.py:24\u001b[0m, in \u001b[0;36mget_placemark\u001b[1;34m(file_path)\u001b[0m\n\u001b[0;32m     23\u001b[0m \u001b[39mdef\u001b[39;00m \u001b[39mget_placemark\u001b[39m(file_path):\n\u001b[1;32m---> 24\u001b[0m   kmz \u001b[39m=\u001b[39m ZipFile(file_path, \u001b[39m'\u001b[39;49m\u001b[39mr\u001b[39;49m\u001b[39m'\u001b[39;49m)\n\u001b[0;32m     25\u001b[0m   doc \u001b[39m=\u001b[39m kmz\u001b[39m.\u001b[39mopen(\u001b[39m'\u001b[39m\u001b[39mdoc.kml\u001b[39m\u001b[39m'\u001b[39m, \u001b[39m'\u001b[39m\u001b[39mr\u001b[39m\u001b[39m'\u001b[39m)\u001b[39m.\u001b[39mread()\n\u001b[0;32m     26\u001b[0m   kml_file \u001b[39m=\u001b[39m html\u001b[39m.\u001b[39mfromstring(doc)\n",
      "File \u001b[1;32mc:\\Users\\rianr\\AppData\\Local\\Programs\\Python\\Python311\\Lib\\zipfile.py:1281\u001b[0m, in \u001b[0;36mZipFile.__init__\u001b[1;34m(self, file, mode, compression, allowZip64, compresslevel, strict_timestamps, metadata_encoding)\u001b[0m\n\u001b[0;32m   1279\u001b[0m \u001b[39mwhile\u001b[39;00m \u001b[39mTrue\u001b[39;00m:\n\u001b[0;32m   1280\u001b[0m     \u001b[39mtry\u001b[39;00m:\n\u001b[1;32m-> 1281\u001b[0m         \u001b[39mself\u001b[39m\u001b[39m.\u001b[39mfp \u001b[39m=\u001b[39m io\u001b[39m.\u001b[39mopen(file, filemode)\n\u001b[0;32m   1282\u001b[0m     \u001b[39mexcept\u001b[39;00m \u001b[39mOSError\u001b[39;00m:\n\u001b[0;32m   1283\u001b[0m         \u001b[39mif\u001b[39;00m filemode \u001b[39min\u001b[39;00m modeDict:\n",
      "\u001b[1;31mFileNotFoundError\u001b[0m: [Errno 2] No such file or directory: 'Input\\\\ABD - XLSGM1218.kmz'"
     ]
    }
   ],
   "source": [
    "coordinate_col = ['BUILDING_LONGITUDE', 'BUILDING_LATITUDE']\n",
    "homepass_long_lat = getAllHP('Input\\ABD - XLSGM1218.kmz')\n",
    "red_fill = PatternFill(start_color='FF0000', end_color='FF0000', fill_type='solid')\n",
    "green_fill = PatternFill(start_color='00FF00', end_color='00FF00', fill_type='solid')\n",
    "\n",
    "hpdb_df = pd.read_excel('Input\\HPDB - XLSGM1218.xlsx', sheet_name='HPDB_Excel')\n",
    "wb = load_workbook('Input\\HPDB - XLSGM1218.xlsx')\n",
    "ws = wb.active\n",
    "\n",
    "for index, row in hpdb_df.iterrows():\n",
    "        build_longitude = row['BUILDING_LONGITUDE']\n",
    "        build_latitude = row['BUILDING_LATITUDE']\n",
    "        fat_longitude = row['FAT_LONGITUDE']\n",
    "        fat_latitude = row['FAT_LATITUDE']\n",
    "        if pd.notnull(build_longitude) and pd.notnull(build_latitude):\n",
    "            # Ubah nilai longitude dan latitude menjadi tuple\n",
    "            coordinate_tuple = [float(build_longitude), float(build_latitude)]\n",
    "\n",
    "            if not str(coordinate_tuple) in homepass_long_lat[\"Coordinates\"].astype(str).to_list():\n",
    "                # Tambahkan logika untuk menandai jika nilai tidak ditemukan\n",
    "                ws.cell(row=index + 2, column=hpdb_df.columns.get_loc('BUILDING_LONGITUDE') + 1).fill = red_fill\n",
    "                ws.cell(row=index + 2, column=hpdb_df.columns.get_loc('BUILDING_LATITUDE') + 1).fill = red_fill\n",
    "\n",
    "        if pd.notnull(fat_longitude) and pd.notnull(fat_latitude):\n",
    "            # Ubah nilai longitude dan latitude menjadi tuple\n",
    "            coordinate_tuple = [float(fat_longitude), float(fat_latitude)]\n",
    "\n",
    "            if not str(coordinate_tuple) in fat_long_lat[\"Coordinates\"].astype(str).to_list():\n",
    "                # Tambahkan logika untuk menandai jika nilai tidak ditemukan\n",
    "                ws.cell(row=index + 2, column=hpdb_df.columns.get_loc('FAT_LONGITUDE') + 1).fill = red_fill\n",
    "                ws.cell(row=index + 2, column=hpdb_df.columns.get_loc('FAT_LATITUDE') + 1).fill = red_fill\n",
    "\n",
    "wb.save('Output\\output_HPDB - XLSGM1218.xlsx')"
   ]
  },
  {
   "cell_type": "code",
   "execution_count": 36,
   "metadata": {},
   "outputs": [
    {
     "name": "stdout",
     "output_type": "stream",
     "text": [
      "[119.445787, -5.220373]\n",
      "[119.445787, -5.220373]\n",
      "True\n"
     ]
    }
   ],
   "source": [
    "print(coordinate_tuple)\n",
    "print(homepass_long_lat['Coordinates'][91])\n",
    "print(str(coordinate_tuple) in homepass_long_lat[\"Coordinates\"].astype(str).to_list())\n",
    "# \"\"\"for i in homepass_long_lat[\"Coordinates\"]:\n",
    "#     if i == coordinate_tuple:\n",
    "#         print(\"ada yang sama bro\")\"\"\""
   ]
  },
  {
   "cell_type": "code",
   "execution_count": 15,
   "metadata": {},
   "outputs": [
    {
     "name": "stdout",
     "output_type": "stream",
     "text": [
      "0     [119.445351, -5.219761]\n",
      "1     [119.445168, -5.219991]\n",
      "2     [119.445052, -5.219981]\n",
      "3     [119.444979, -5.219891]\n",
      "4     [119.444987, -5.219637]\n",
      "               ...           \n",
      "87    [119.444176, -5.219279]\n",
      "88    [119.443645, -5.219123]\n",
      "89    [119.445607, -5.220439]\n",
      "90    [119.445661, -5.219887]\n",
      "91    [119.445787, -5.220373]\n",
      "Name: Coordinates, Length: 92, dtype: object\n"
     ]
    }
   ],
   "source": [
    "print(homepass_long_lat['Coordinates'])"
   ]
  }
 ],
 "metadata": {
  "kernelspec": {
   "display_name": "Python 3",
   "language": "python",
   "name": "python3"
  },
  "language_info": {
   "codemirror_mode": {
    "name": "ipython",
    "version": 3
   },
   "file_extension": ".py",
   "mimetype": "text/x-python",
   "name": "python",
   "nbconvert_exporter": "python",
   "pygments_lexer": "ipython3",
   "version": "3.11.2"
  },
  "orig_nbformat": 4
 },
 "nbformat": 4,
 "nbformat_minor": 2
}
